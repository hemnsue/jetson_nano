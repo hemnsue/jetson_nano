{
 "cells": [
  {
   "cell_type": "code",
   "execution_count": null,
   "id": "986ab850",
   "metadata": {},
   "outputs": [],
   "source": [
    "#loading the csi camera\n",
    "#loading the jet racer\n",
    "#loading the jet cam\n",
    "#accessing the camera inputs in operation form without ipywigets\n",
    "#building a control algoritm using computer vision for road following and inlane driving\n",
    "#recognising traffic signs and controlling the speed of the ego vehicle \n",
    "#applying object dectection and avoidance using cv2\n",
    "#behavioural cloning using nvidia's model architecture\n",
    "#tensort flow to torch"
   ]
  }
 ],
 "metadata": {
  "kernelspec": {
   "display_name": "Python 3",
   "language": "python",
   "name": "python3"
  },
  "language_info": {
   "codemirror_mode": {
    "name": "ipython",
    "version": 3
   },
   "file_extension": ".py",
   "mimetype": "text/x-python",
   "name": "python",
   "nbconvert_exporter": "python",
   "pygments_lexer": "ipython3",
   "version": "3.6.9"
  }
 },
 "nbformat": 4,
 "nbformat_minor": 5
}
