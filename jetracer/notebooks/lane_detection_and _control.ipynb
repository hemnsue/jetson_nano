{
 "cells": [
  {
   "cell_type": "code",
   "execution_count": null,
   "id": "7231a534",
   "metadata": {},
   "outputs": [],
   "source": [
    "#lane detection and control using open cv\n",
    "#accesing the csi camera inputs to operate using opencv\n",
    "#jetson hacks"
   ]
  },
  {
   "cell_type": "code",
   "execution_count": null,
   "id": "a4ca747f",
   "metadata": {},
   "outputs": [],
   "source": [
    "#initialisation\n",
    "import cv2\n",
    "from jetracer.nvidia_racecar import NvidiaRacecar\n",
    "from jetcam.csi_camera import CSICamera\n"
   ]
  },
  {
   "cell_type": "code",
   "execution_count": null,
   "id": "f72bfb77",
   "metadata": {},
   "outputs": [],
   "source": [
    "#edge detection & Thresholding\n",
    "def CannyEdge(image):\n",
    "  gray = cv2.cvtColor(image, cv2.COLOR_RGB2GRAY)\n",
    "  blur = cv2.GaussianBlur(gray, (5,5), 0)\n",
    "  cannyImage = cv2.Canny(blur, 50, 150)\n",
    "  return cannyImage"
   ]
  },
  {
   "cell_type": "code",
   "execution_count": null,
   "id": "557e0b9f",
   "metadata": {},
   "outputs": [],
   "source": [
    "#ROI\n",
    "def region_of_interest(image):\n",
    "    height = image.shape[0]\n",
    "    triangle = np.array([[(200, height),(550, 250),(1100, height),]], np.int32)\n",
    "    mask = np.zeros_like(image)\n",
    "    cv2.fillPoly(mask, triangle, 255)\n",
    "    masked_image = cv2.bitwise_and(image, mask)\n",
    "    return masked_image"
   ]
  },
  {
   "cell_type": "code",
   "execution_count": null,
   "id": "d7ee160a",
   "metadata": {},
   "outputs": [],
   "source": [
    "#display of lane line detected\n",
    "def display_lines(image, lines):\n",
    "    line_image = np.zeros_like(image)\n",
    "    if lines is not None:\n",
    "        for line in lines:\n",
    "            x1, y1, x2, y2 = line.reshape(4)\n",
    "            cv2.line(line_image, (x1, y1), (x2, y2), (255, 0, 0), 15)\n",
    "    return line_image\n"
   ]
  },
  {
   "cell_type": "code",
   "execution_count": null,
   "id": "14b34b6d",
   "metadata": {},
   "outputs": [],
   "source": [
    "#making of points\n",
    "def make_points(image, line_parameters,lane):\n",
    "    if line_parameters.shape != (2,):\n",
    "        slope, intercept = lane;\n",
    "        print(slope);\n",
    "        y1 = int(image.shape[0]);\n",
    "        y2 = int(y1*3/5);\n",
    "        x1 = int((y1 - intercept)/slope);\n",
    "        x2 = int((y2 - intercept)/slope);\n",
    "        return [[x1, y1, x2, y2]];\n",
    "    else:\n",
    "        slope, intercept = line_parameters;\n",
    "        print(slope);\n",
    "        y1 = int(image.shape[0])\n",
    "        y2 = int(y1*3/5)\n",
    "        x1 = int((y1 - intercept)/slope)\n",
    "        x2 = int((y2 - intercept)/slope)\n",
    "        return [[x1, y1, x2, y2]]"
   ]
  },
  {
   "cell_type": "code",
   "execution_count": null,
   "id": "977798b6",
   "metadata": {},
   "outputs": [],
   "source": [
    "#average slope intercept\n",
    "def average_slope_intercept(image, lines):\n",
    "    left_fit = []\n",
    "    right_fit = []\n",
    "    if lines is None:\n",
    "        return None\n",
    "    for line in lines:\n",
    "        x1, y1, x2, y2 = line.reshape(4);\n",
    "        print(x1,y1,x2,y2);\n",
    "        parameters = np.polyfit((x1, x2), (y1, y2), 1);\n",
    "        slope = parameters[0];\n",
    "        intercept = parameters[1];\n",
    "        if slope < 0:\n",
    "            left_fit.append((slope, intercept));\n",
    "            left.append((slope,intercept));\n",
    "        else:\n",
    "            right_fit.append((slope, intercept));\n",
    "            right.append((slope,intercept));\n",
    "    left_fit_average = np.average(left_fit, axis = 0);\n",
    "    right_fit_average = np.average(right_fit, axis = 0);\n",
    "    a=np.average(left,axis=0);\n",
    "    b=np.average(right,axis=0);\n",
    "    left_line = make_points(image, left_fit_average,a);\n",
    "    right_line = make_points(image, right_fit_average,b);\n",
    "    return np.array((left_line, right_line));"
   ]
  },
  {
   "cell_type": "code",
   "execution_count": null,
   "id": "ff995150",
   "metadata": {},
   "outputs": [],
   "source": [
    "#image processing for lane following , i.e . setting points for calculation for pid steering control"
   ]
  },
  {
   "cell_type": "code",
   "execution_count": null,
   "id": "88f81bb8",
   "metadata": {},
   "outputs": [],
   "source": [
    "#pid control"
   ]
  },
  {
   "cell_type": "code",
   "execution_count": null,
   "id": "ea2e0e12",
   "metadata": {},
   "outputs": [],
   "source": [
    "#getting input real-time from the csi camera\n",
    "\n"
   ]
  },
  {
   "cell_type": "code",
   "execution_count": null,
   "id": "cef5b0ce",
   "metadata": {},
   "outputs": [],
   "source": [
    "#lane detection pipeline\n",
    "canny = CannyEdge(frame)\n",
    "cropped_Image = region_of_interest(canny)\n",
    "rho = 2\n",
    "theta = np.pi/180\n",
    "threshold = 100\n",
    "lines = cv2.HoughLinesP(cropped_Image,rho, theta, threshold, np.array ([ ]), minLineLength=40, maxLineGap=5)\n",
    "averaged_lines = average_slope_intercept(frame, lines)\n",
    "line_image = display_lines(frame, averaged_lines)\n",
    "combo_image = cv2.addWeighted(frame, 0.8, line_image, 1, 1)\n",
    "cv2.imshow(\"Image\", combo_image)\n",
    "if cv2.waitKey(1) & 0xFF == ord('q'):\n",
    "    break\n",
    "cap.release()\n",
    "cv2.destroyAllWindows()"
   ]
  },
  {
   "cell_type": "code",
   "execution_count": null,
   "id": "af6cd6de",
   "metadata": {},
   "outputs": [],
   "source": [
    "#control pipeline"
   ]
  }
 ],
 "metadata": {
  "kernelspec": {
   "display_name": "Python 3",
   "language": "python",
   "name": "python3"
  },
  "language_info": {
   "codemirror_mode": {
    "name": "ipython",
    "version": 3
   },
   "file_extension": ".py",
   "mimetype": "text/x-python",
   "name": "python",
   "nbconvert_exporter": "python",
   "pygments_lexer": "ipython3",
   "version": "3.6.9"
  }
 },
 "nbformat": 4,
 "nbformat_minor": 5
}
